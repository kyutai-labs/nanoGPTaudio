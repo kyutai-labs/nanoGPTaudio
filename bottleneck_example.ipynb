{
 "cells": [
  {
   "cell_type": "code",
   "execution_count": null,
   "id": "0",
   "metadata": {},
   "outputs": [],
   "source": [
    "%load_ext autoreload\n",
    "%autoreload 2"
   ]
  },
  {
   "cell_type": "code",
   "execution_count": null,
   "id": "1",
   "metadata": {},
   "outputs": [],
   "source": [
    "import torch\n",
    "import matplotlib.pyplot as plt"
   ]
  },
  {
   "cell_type": "code",
   "execution_count": null,
   "id": "2",
   "metadata": {},
   "outputs": [],
   "source": [
    "from contextlib import nullcontext\n",
    "from math import cos, sin\n",
    "\n",
    "from codec import Bottleneck\n",
    "\n",
    "channels = 2\n",
    "\n",
    "samples = torch.concat(\n",
    "    [\n",
    "        torch.randn(30, channels) * 0.1 + torch.Tensor([0.1, 0.2]),\n",
    "        torch.randn(30, channels) * 0.3 + torch.Tensor([-0.8, 0.9]),\n",
    "        torch.randn(30, channels),\n",
    "    ]\n",
    ")\n",
    "samples.requires_grad_(True)\n",
    "\n",
    "\n",
    "angle = 0.01\n",
    "noise_added = 0.01\n",
    "learning_rate = 1.0\n",
    "codebook_update_speed = 0.05\n",
    "\n",
    "history = []\n",
    "bottleneck = Bottleneck(\n",
    "    channels=channels, codebook_size=4, codebook_update_speed=codebook_update_speed\n",
    ")\n",
    "optimizer = torch.optim.SGD([samples], lr=learning_rate)\n",
    "\n",
    "for i in range(1000):\n",
    "    history.append(\n",
    "        {\n",
    "            \"samples\": samples.detach().clone().numpy(),\n",
    "            \"codebook\": bottleneck.codebook().detach().clone().numpy(),\n",
    "        }\n",
    "    )\n",
    "    optimizer.zero_grad()\n",
    "    q, commitment_loss = bottleneck(samples)\n",
    "    commitment_loss.backward()\n",
    "    optimizer.step()\n",
    "\n",
    "    with torch.no_grad():\n",
    "        # Tricky: We need samples[:] here because otherwise we create a different\n",
    "        # tensor than the one registered with the optimizer, and it wouldn't know\n",
    "        # how to update it.\n",
    "        samples[:] = samples @ torch.Tensor(\n",
    "            [\n",
    "                [cos(angle), sin(angle)],\n",
    "                [-sin(angle), cos(angle)],\n",
    "            ]\n",
    "        )\n",
    "        samples += torch.randn_like(samples) * noise_added"
   ]
  },
  {
   "cell_type": "code",
   "execution_count": null,
   "id": "3",
   "metadata": {},
   "outputs": [],
   "source": [
    "import matplotlib.pyplot as plt\n",
    "import numpy as np\n",
    "\n",
    "import matplotlib.animation as animation\n",
    "from IPython.display import HTML\n",
    "\n",
    "fig, ax = plt.subplots()\n",
    "\n",
    "embeddings_scatter = ax.scatter(\n",
    "    history[0][\"samples\"][:, 0], history[0][\"samples\"][:, 1]\n",
    ")\n",
    "codes_scatter = ax.scatter(history[0][\"codebook\"][:, 0], history[0][\"codebook\"][:, 1])\n",
    "\n",
    "\n",
    "def animate(history_step):\n",
    "    # line.set_ydata(np.sin(x + i / 50))  # update the data.\n",
    "    embeddings_scatter.set_offsets(history_step[\"samples\"])\n",
    "    codes_scatter.set_offsets(history_step[\"codebook\"])\n",
    "    return (embeddings_scatter, codes_scatter)\n",
    "\n",
    "\n",
    "ani = animation.FuncAnimation(fig, animate, frames=history, interval=1 / 30, blit=True)\n",
    "plt.close(fig)  # Don't show fig, just the animation\n",
    "\n",
    "\n",
    "HTML(ani.to_jshtml())"
   ]
  },
  {
   "cell_type": "code",
   "execution_count": null,
   "id": "4",
   "metadata": {},
   "outputs": [],
   "source": []
  },
  {
   "cell_type": "code",
   "execution_count": null,
   "id": "5",
   "metadata": {},
   "outputs": [],
   "source": []
  }
 ],
 "metadata": {
  "kernelspec": {
   "display_name": "nanoGPT",
   "language": "python",
   "name": "python3"
  },
  "language_info": {
   "codemirror_mode": {
    "name": "ipython",
    "version": 3
   },
   "file_extension": ".py",
   "mimetype": "text/x-python",
   "name": "python",
   "nbconvert_exporter": "python",
   "pygments_lexer": "ipython3",
   "version": "3.12.9"
  }
 },
 "nbformat": 4,
 "nbformat_minor": 5
}
